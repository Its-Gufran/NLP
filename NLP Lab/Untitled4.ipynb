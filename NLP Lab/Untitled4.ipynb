{
 "cells": [
  {
   "cell_type": "code",
   "execution_count": null,
   "id": "665e4dfe",
   "metadata": {},
   "outputs": [],
   "source": [
    "# Maximum Matching Segregation Algorithm For Text"
   ]
  },
  {
   "cell_type": "code",
   "execution_count": null,
   "id": "b323cb4b",
   "metadata": {},
   "outputs": [],
   "source": [
    "import nltk\n",
    "nltk.download('words')"
   ]
  },
  {
   "cell_type": "code",
   "execution_count": 1,
   "id": "914d0892",
   "metadata": {},
   "outputs": [
    {
     "name": "stdout",
     "output_type": "stream",
     "text": [
      "['this', 'is', 'insane', 'and', 'that', 'was', 'not', 'i', 'always', 'want', 'ed', 'tog', 'oto', 'delhi', 'and', 'my', 'friend', 'does', 'not']\n"
     ]
    }
   ],
   "source": [
    "from nltk.corpus import words\n",
    "\n",
    "string = \"thisisinsaneandthatwasnotialwayswantedtogotodelhiandmyfrienddoesnot\"\n",
    "tokens = []\n",
    "lowercaseCorpus = [x.lower() for x in words.words()]\n",
    "i = 0\n",
    "while i < len(string):\n",
    "    maxWord = \"\"\n",
    "    for j in range(i, len(string)):\n",
    "        tempWord = string[i:j+1]\n",
    "        if tempWord in lowercaseCorpus and len(tempWord) > len(maxWord):\n",
    "            maxWord = tempWord\n",
    "    i = i+len(maxWord)\n",
    "    tokens.append(maxWord)\n",
    "\n",
    "print(tokens)"
   ]
  },
  {
   "cell_type": "code",
   "execution_count": 2,
   "id": "0710d023",
   "metadata": {},
   "outputs": [
    {
     "name": "stdout",
     "output_type": "stream",
     "text": [
      "Accuracy: 70.00%\n"
     ]
    }
   ],
   "source": [
    "from nltk.corpus import words\n",
    "\n",
    "lowercaseCorpus = set(word.lower() for word in words.words())\n",
    "\n",
    "test_cases = [\n",
    "    (\"thisisinsaneandthatwasnotialwayswantedtogotodelhiandmyfrienddoesnot\",\n",
    "     [\"this\", \"is\", \"in\", \"sane\", \"and\", \"that\", \"was\", \"not\", \"i\", \"always\", \"wanted\", \"to\", \"go\", \"to\", \"delhi\", \"and\", \"my\", \"friend\", \"does\", \"not\"])\n",
    "]\n",
    "\n",
    "total_words = 0\n",
    "correct_words = 0\n",
    "\n",
    "for string, expected_words in test_cases:\n",
    "    tokens = []\n",
    "    i = 0\n",
    "    while i < len(string):\n",
    "        maxWord = \"\"\n",
    "        for j in range(i, len(string)):\n",
    "            tempWord = string[i:j+1]\n",
    "            if tempWord in lowercaseCorpus and len(tempWord) > len(maxWord):\n",
    "                maxWord = tempWord\n",
    "        i = i+len(maxWord)\n",
    "        tokens.append(maxWord)\n",
    "\n",
    "    total_words += len(expected_words)\n",
    "    correct_words += sum(1 for word in tokens if word in expected_words)\n",
    "\n",
    "accuracy = (correct_words / total_words) * 100\n",
    "print(\"Accuracy: {:.2f}%\".format(accuracy))\n"
   ]
  },
  {
   "cell_type": "code",
   "execution_count": null,
   "id": "c90c22e7",
   "metadata": {},
   "outputs": [],
   "source": []
  }
 ],
 "metadata": {
  "kernelspec": {
   "display_name": "Python 3 (ipykernel)",
   "language": "python",
   "name": "python3"
  },
  "language_info": {
   "codemirror_mode": {
    "name": "ipython",
    "version": 3
   },
   "file_extension": ".py",
   "mimetype": "text/x-python",
   "name": "python",
   "nbconvert_exporter": "python",
   "pygments_lexer": "ipython3",
   "version": "3.10.4"
  }
 },
 "nbformat": 4,
 "nbformat_minor": 5
}
