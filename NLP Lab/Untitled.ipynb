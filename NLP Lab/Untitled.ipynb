{
 "cells": [
  {
   "cell_type": "code",
   "execution_count": null,
   "id": "5e23a9a5",
   "metadata": {},
   "outputs": [],
   "source": [
    "pip install requests beautifulsoup4"
   ]
  },
  {
   "cell_type": "code",
   "execution_count": null,
   "id": "10e38bad",
   "metadata": {},
   "outputs": [],
   "source": [
    "import requests\n",
    "from bs4 import BeautifulSoup\n",
    "import re"
   ]
  },
  {
   "cell_type": "code",
   "execution_count": null,
   "id": "1f3a94be",
   "metadata": {},
   "outputs": [],
   "source": [
    "def fetch_webpage_content(url):\n",
    "    try:\n",
    "        # Fetching the webpage content\n",
    "        response = requests.get(url)\n",
    "        response.raise_for_status()  # Raise an HTTPError for bad responses\n",
    "        return response.text\n",
    "    except requests.exceptions.RequestException as e:\n",
    "        print(f\"Error fetching the webpage: {e}\")\n",
    "        return None"
   ]
  },
  {
   "cell_type": "code",
   "execution_count": null,
   "id": "cb3d0e33",
   "metadata": {},
   "outputs": [],
   "source": [
    "def clean_text(html_content):\n",
    "    # Parsing HTML content using BeautifulSoup\n",
    "    soup = BeautifulSoup(html_content, 'html.parser')\n",
    "\n",
    "    # Removing HTML tags and scripts\n",
    "    text_content = re.sub(r'<.*?>', '', soup.get_text(separator=' ', strip=True))\n",
    "\n",
    "    # Removing extra whitespaces and newlines\n",
    "    text_content = re.sub(r'\\s+', ' ', text_content)\n",
    "\n",
    "    return text_content"
   ]
  },
  {
   "cell_type": "code",
   "execution_count": null,
   "id": "9209da82",
   "metadata": {},
   "outputs": [],
   "source": [
    "def save_to_text_file(text_content, filename='cleaned_text.txt'):\n",
    "    with open(filename, 'w', encoding='utf-8') as file:\n",
    "        file.write(text_content)\n",
    "    print(f\"Cleaned text saved to {filename}\""
   ]
  },
  {
   "cell_type": "code",
   "execution_count": null,
   "id": "f22cfe04",
   "metadata": {},
   "outputs": [],
   "source": [
    "url = input(\"Enter the URL: \")\n",
    "webpage_content = fetch_webpage_content(url)"
   ]
  },
  {
   "cell_type": "code",
   "execution_count": null,
   "id": "4634ccac",
   "metadata": {},
   "outputs": [],
   "source": [
    "if webpage_content:\n",
    "    cleaned_text = clean_text(webpage_content)\n",
    "    save_to_text_file(cleaned_text)"
   ]
  }
 ],
 "metadata": {
  "kernelspec": {
   "display_name": "Python 3 (ipykernel)",
   "language": "python",
   "name": "python3"
  },
  "language_info": {
   "codemirror_mode": {
    "name": "ipython",
    "version": 3
   },
   "file_extension": ".py",
   "mimetype": "text/x-python",
   "name": "python",
   "nbconvert_exporter": "python",
   "pygments_lexer": "ipython3",
   "version": "3.10.4"
  }
 },
 "nbformat": 4,
 "nbformat_minor": 5
}
